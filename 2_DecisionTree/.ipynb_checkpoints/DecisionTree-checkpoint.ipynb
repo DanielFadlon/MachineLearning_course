{
 "cells": [
  {
   "cell_type": "markdown",
   "metadata": {},
   "source": [
    "# Exercise 2: Decision Trees"
   ]
  },
  {
   "cell_type": "code",
   "execution_count": 1,
   "metadata": {
    "nbgrader": {
     "grade": false,
     "grade_id": "cell-ed9fe7b1026e33cb",
     "locked": true,
     "schema_version": 1,
     "solution": false
    }
   },
   "outputs": [],
   "source": [
    "import numpy as np\n",
    "import pandas as pd\n",
    "import matplotlib.pyplot as plt\n",
    "import copy\n",
    "\n",
    "# make matplotlib figures appear inline in the notebook\n",
    "%matplotlib inline\n",
    "plt.rcParams['figure.figsize'] = (10.0, 8.0) # set default size of plots\n",
    "plt.rcParams['image.interpolation'] = 'nearest'\n",
    "plt.rcParams['image.cmap'] = 'gray'\n",
    "\n",
    "# Ignore warnings\n",
    "import warnings\n",
    "warnings.filterwarnings('ignore')"
   ]
  },
  {
   "cell_type": "markdown",
   "metadata": {
    "nbgrader": {
     "grade": false,
     "grade_id": "cell-2f1ceb251c649b62",
     "locked": true,
     "schema_version": 1,
     "solution": false
    }
   },
   "source": [
    "## Data preprocessing\n",
    "\n",
    "For the following exercise, we will use a dataset containing mushroom data `agaricus-lepiota.csv`. \n",
    "\n",
    "This data set includes descriptions of hypothetical samples corresponding to 23 species of gilled mushrooms in the Agaricus and Lepiota Family. Each species is identified as definitely edible, definitely poisonous, or of unknown edibility and not recommended. This latter class was combined with the poisonous\n",
    "one (=there are only two classes **edible** and **poisonous**). \n",
    "    \n",
    "The dataset contains 8124 observations with 22 features:\n",
    "1. cap-shape: bell=b,conical=c,convex=x,flat=f,knobbed=k,sunken=s\n",
    "2. cap-surface: fibrous=f,grooves=g,scaly=y,smooth=s\n",
    "3. cap-color: brown=n,buff=b,cinnamon=c,gray=g,green=r,pink=p,purple=u,red=e,white=w,yellow=y\n",
    "4. bruises: bruises=t,no=f\n",
    "5. odor: almond=a,anise=l,creosote=c,fishy=y,foul=f, musty=m,none=n,pungent=p,spicy=s\n",
    "6. gill-attachment: attached=a,descending=d,free=f,notched=n\n",
    "7. gill-spacing: close=c,crowded=w,distant=d\n",
    "8. gill-size: broad=b,narrow=n\n",
    "9. gill-color: black=k,brown=n,buff=b,chocolate=h,gray=g,green=r,orange=o,pink=p,purple=u,red=e,white=w,yellow=y\n",
    "10. stalk-shape: enlarging=e,tapering=t\n",
    "11. stalk-root: bulbous=b,club=c,cup=u,equal=e,rhizomorphs=z,rooted=r\n",
    "12. stalk-surface-above-ring: fibrous=f,scaly=y,silky=k,smooth=s\n",
    "13. stalk-surface-below-ring: fibrous=f,scaly=y,silky=k,smooth=s\n",
    "14. stalk-color-above-ring: brown=n,buff=b,cinnamon=c,gray=g,orange=o,pink=p,red=e,white=w,yellow=y\n",
    "15. stalk-color-below-ring: brown=n,buff=b,cinnamon=c,gray=g,orange=o,pink=p,red=e,white=w,yellow=y\n",
    "16. veil-type: partial=p,universal=u\n",
    "17. veil-color: brown=n,orange=o,white=w,yellow=y\n",
    "18. ring-number: none=n,one=o,two=t\n",
    "19. ring-type: cobwebby=c,evanescent=e,flaring=f,large=l,none=n,pendant=p,sheathing=s,zone=z\n",
    "20. spore-print-color: black=k,brown=n,buff=b,chocolate=h,green=r,orange=o,purple=u,white=w,yellow=y\n",
    "21. population: abundant=a,clustered=c,numerous=n,scattered=s,several=v,solitary=y\n",
    "22. habitat: grasses=g,leaves=l,meadows=m,paths=p,urban=u,waste=w,woods=d\n",
    "\n",
    "First, we will read and explore the data using pandas and the `.read_csv` method. Pandas is an open source library providing high-performance, easy-to-use data structures and data analysis tools for the Python programming language."
   ]
  },
  {
   "cell_type": "code",
   "execution_count": 2,
   "metadata": {
    "nbgrader": {
     "grade": false,
     "grade_id": "cell-d79cb4542926ad3f",
     "locked": true,
     "schema_version": 1,
     "solution": false
    }
   },
   "outputs": [],
   "source": [
    "# load dataset\n",
    "data = pd.read_csv('agaricus-lepiota.csv')"
   ]
  },
  {
   "cell_type": "markdown",
   "metadata": {},
   "source": [
    "One of the advantages of the Decision Tree algorithm is that almost no preprocessing is required. However, finding missing values is always required."
   ]
  },
  {
   "cell_type": "code",
   "execution_count": 3,
   "metadata": {},
   "outputs": [],
   "source": [
    "#############################################################################\n",
    "# TODO: Find the columns with missing values and remove them from the data.#\n",
    "#############################################################################\n",
    "\n",
    "data.dropna(axis=1, how='any', thresh=None, subset=None, inplace=True)\n",
    "\n",
    "###############################################\n",
    "#                             END OF YOUR CODE                              #\n",
    "#############################################################################"
   ]
  },
  {
   "cell_type": "markdown",
   "metadata": {},
   "source": [
    "We will split the dataset to `Training` and `Testing` datasets."
   ]
  },
  {
   "cell_type": "code",
   "execution_count": 4,
   "metadata": {},
   "outputs": [
    {
     "name": "stdout",
     "output_type": "stream",
     "text": [
      "Training dataset shape:  (6093, 22)\n",
      "Testing dataset shape:  (2031, 22)\n"
     ]
    }
   ],
   "source": [
    "from sklearn.model_selection import train_test_split\n",
    "# Making sure the last column will hold the labels\n",
    "X, y = data.drop('class', axis=1), data['class']\n",
    "X = np.column_stack([X,y])\n",
    "# split dataset using random_state to get the same split each time\n",
    "X_train, X_test = train_test_split(X, random_state=99)\n",
    "\n",
    "print(\"Training dataset shape: \", X_train.shape)\n",
    "print(\"Testing dataset shape: \", X_test.shape)"
   ]
  },
  {
   "cell_type": "code",
   "execution_count": 5,
   "metadata": {},
   "outputs": [
    {
     "data": {
      "text/plain": [
       "(8124,)"
      ]
     },
     "execution_count": 5,
     "metadata": {},
     "output_type": "execute_result"
    }
   ],
   "source": [
    "y.shape"
   ]
  },
  {
   "cell_type": "markdown",
   "metadata": {
    "nbgrader": {
     "grade": false,
     "grade_id": "cell-fd7b0191f3f1e897",
     "locked": true,
     "schema_version": 1,
     "solution": false
    }
   },
   "source": [
    "## Impurity Measures\n",
    "\n",
    "Impurity is a measure of how often a randomly chosen element from the set would be incorrectly labeled if it was randomly labeled according to the distribution of labels in the subset. Implement the functions `calc_gini` and `calc_entropy`. You are encouraged to test your implementation (10 points)."
   ]
  },
  {
   "cell_type": "code",
   "execution_count": 6,
   "metadata": {},
   "outputs": [],
   "source": [
    "def calc_gini(data):\n",
    "    \"\"\"\n",
    "    Calculate gini impurity measure of a dataset.\n",
    " \n",
    "    Input:\n",
    "    - data: any dataset where the last column holds the labels.\n",
    " \n",
    "    Returns the gini impurity.    \n",
    "    \"\"\"\n",
    "    if len(data.shape) == 1:\n",
    "        labels = data\n",
    "    else:\n",
    "        labels = data[:, -1]\n",
    "    # getting the counts of each class apperance\n",
    "    class_types, counts = np.unique(labels, return_counts=True) \n",
    "    sigma = np.square(counts / len(labels))\n",
    "    gini = 1 - np.sum(sigma)\n",
    "    \n",
    "    return gini"
   ]
  },
  {
   "cell_type": "code",
   "execution_count": 7,
   "metadata": {},
   "outputs": [],
   "source": [
    "def calc_entropy(data):\n",
    "    \"\"\"\n",
    "    Calculate the entropy of a dataset.\n",
    "\n",
    "    Input:\n",
    "    - data: any dataset where the last column holds the labels.\n",
    "\n",
    "    Returns the entropy of the dataset.    \n",
    "    \"\"\"\n",
    "    if len(data.shape) == 1:\n",
    "        labels = data \n",
    "    else:\n",
    "        labels = data[:, -1]\n",
    "    # getting the counts of each class apperance\n",
    "    class_types, counts = np.unique(labels, return_counts=True) \n",
    "    probabilities = counts / len(labels)\n",
    "    entropy = -np.sum(probabilities.dot(np.log2(probabilities)))\n",
    "    \n",
    "    return entropy"
   ]
  },
  {
   "cell_type": "code",
   "execution_count": 8,
   "metadata": {
    "scrolled": true
   },
   "outputs": [
    {
     "name": "stdout",
     "output_type": "stream",
     "text": [
      "0.5\n",
      "1.0\n"
     ]
    },
    {
     "data": {
      "text/plain": [
       "(0.4995636322379775, 0.9993703627906085)"
      ]
     },
     "execution_count": 8,
     "metadata": {},
     "output_type": "execute_result"
    }
   ],
   "source": [
    "##### Your Tests Here #####\n",
    "test = np.array([[1,1,1], [1,1,1], [1, 1, 1], [0,0, 0], [0,0, 0], [0,0, 0]])\n",
    "print(calc_gini(test))\n",
    "print(calc_entropy(test))\n",
    "calc_gini(X), calc_entropy(X)"
   ]
  },
  {
   "cell_type": "markdown",
   "metadata": {},
   "source": [
    "## Goodness of Split\n",
    "\n",
    "Given a feature the Goodnees of Split measures the reduction in the impurity if we split the data according to the feature.\n",
    "$$\n",
    "\\Delta\\varphi(S, A) = \\varphi(S) - \\sum_{v\\in Values(A)} \\frac{|S_v|}{|S|}\\varphi(S_v)\n",
    "$$\n",
    "\n",
    "In our implementation the goodness_of_split function will return either the Goodness of Split or the Gain Ratio as learned in class. You'll control the return value with the `gain_ratio` parameter. If this parameter will set to False (the default value) it will return the regular Goodness of Split. If it will set to True it will return the Gain Ratio.\n",
    "$$\n",
    "GainRatio(S,A)=\\frac{InformationGain(S,A)}{SplitInformation(S,A)}\n",
    "$$\n",
    "Where:\n",
    "$$\n",
    "InformationGain(S,A)=Goodness\\ of\\ Split\\ calculated\\ with\\ Entropy\\ as\\ the\\ Impurity\\ function \\\\\n",
    "SplitInformation(S,A)=- \\sum_{a\\in A} \\frac{|S_a|}{|S|}\\log\\frac{|S_a|}{|S|}\n",
    "$$\n",
    "NOTE: you can add more parameters to the function and you can also add more returning variables (The given parameters and the given returning variable should not be touch). (10 Points)"
   ]
  },
  {
   "cell_type": "code",
   "execution_count": 9,
   "metadata": {},
   "outputs": [],
   "source": [
    "def goodness_of_split(data, feature, impurity_func, gain_ratio=False):\n",
    "    \"\"\"\n",
    "    Calculate the goodness of split of a dataset given a feature and impurity function.\n",
    "\n",
    "    Input:\n",
    "    - data: any dataset where the last column holds the labels.\n",
    "    - feature: the feature index.\n",
    "    - impurity func: a function that calculates the impurity.\n",
    "    - gain_ratio: goodness of split or gain ratio flag.\n",
    "\n",
    "    Returns:\n",
    "    - the goodness of split (or the Gain Ration) .  \n",
    "    - children that created by this split\n",
    "    \"\"\"\n",
    "    \n",
    "    #split\n",
    "    cls_types, counts = np.unique(data[:, feature], return_counts=True)\n",
    "    cls_rows = [np.where(data[:, feature] == c) for c in cls_types]\n",
    "    children = np.array([data[idx, :] for type_c in cls_rows for idx in type_c])  \n",
    "    \n",
    "    #goodness(S, A) = delta(S) - sum(|Sv|/|S| - delta(Sv) for any v in values of A)  \n",
    "    goodness = impurity_func(data) - np.sum((counts[i] / data.shape[0]) * impurity_func(children[i]) for i in range(len(cls_types)) if children[i] != [])\n",
    "    \n",
    "    if gain_ratio:\n",
    "        # goodness(S, A) = information_gain(=old goodness) / Split_in_information\n",
    "        #split_in_indormation(S, A) = -sum(|Sv|/|S| log(|Sv|/|S|) for any v in values of A)\n",
    "        info_gain = goodness \n",
    "        size = [counts[i] / data.shape[0] for i in range(len(counts))]\n",
    "        split_info = -1 * np.sum(size * np.log2(size))\n",
    "        goodness = info_gain / split_info\n",
    "\n",
    "    return goodness, children "
   ]
  },
  {
   "cell_type": "markdown",
   "metadata": {},
   "source": [
    "## Building a Decision Tree\n",
    "\n",
    "Use a Python class to construct the decision tree. Your class should support the following functionality:\n",
    "\n",
    "1. Initiating a node for a decision tree. You will need to use several class methods and class attributes and you are free to use them as you see fit. We recommend that every node will hold the feature and value used for the split and its children.\n",
    "2. Your code should support both Gini and Entropy as impurity measures. \n",
    "3. The provided data includes categorical data. In this exercise, when splitting a node create the number of children needed according to the attribute unique values.\n",
    "\n",
    "Complete the class `DecisionNode`. The structure of this class is entirely up to you. \n",
    "\n",
    "Complete the function `build_tree`. This function should get the training dataset and the impurity as inputs, initiate a root for the decision tree and construct the tree according to the procedure you learned in class. (30 points)"
   ]
  },
  {
   "cell_type": "code",
   "execution_count": 10,
   "metadata": {},
   "outputs": [],
   "source": [
    "class DecisionNode():\n",
    "    \"\"\"\n",
    "    This class will hold everything you require to construct a decision tree.\n",
    "    The structure of this class is up to you. However, you need to support basic \n",
    "    functionality as described above. It is highly recommended that you \n",
    "    first read and understand the entire exercise before diving into this class.\n",
    "    \n",
    "    fields:\n",
    "    \n",
    "    data - the data of the node\n",
    "    feature - the feature that make the split\n",
    "    samples - num of samples\n",
    "    children - the children of the node \n",
    "    children_vals - the value of each child on the node feture\n",
    "    degree_of_freedom - the degree of fredom \n",
    "    cls_split - the number of nodes at each class ['e', 'p']\n",
    "    pred - the prediction of this node\n",
    "    \"\"\"\n",
    "    \n",
    "    def __init__(self, data, feature=None):\n",
    "        self.data = data\n",
    "        self.feature = feature \n",
    "        self.samples = data.shape[0]\n",
    "        self.children = []\n",
    "        self.children_vals = []\n",
    "        self.degree_of_freedom = None  \n",
    "        self.parent = None\n",
    "        \n",
    "        \n",
    "        num_e = np.where(data[:, -1] == 'e')[0].shape[0]\n",
    "        num_p = np.where(data[:, -1] == 'p')[0].shape[0]\n",
    "        self.cls_split = [num_e, num_p]\n",
    "        \n",
    "        self.pred = 'e' if self.cls_split[0] - self.cls_split[1] > 0 else 'p'\n",
    "        \n",
    "    def add_child(self, node):\n",
    "        \"\"\"\n",
    "        add single child and update the value of the feature that makes the split\n",
    "        \n",
    "        Input- \n",
    "        - DecisionNode\n",
    "        \"\"\"\n",
    "        self.children.append(node)\n",
    "        self.children_vals.append(node.data[0, self.feature])\n",
    "    \n",
    "    def add_children(self, children):\n",
    "        \"\"\"\n",
    "        add the children and update their value of split\n",
    "        \n",
    "        Input:\n",
    "        - list of DecisionNode\n",
    "        \"\"\"\n",
    "        self.children += children\n",
    "        self.children_vals += [child.data[0, self.feature] for child in children]\n",
    "    \n",
    "    def compute_chi_value(self, temp_children):\n",
    "        \"\"\"\n",
    "        comput the chi value of a specific node\n",
    "        \n",
    "        Input:\n",
    "        - list of DecisionNode: the children that create by this split(according to specific feature)\n",
    "        \n",
    "        Returns:\n",
    "        - chi value\n",
    "        - the children that create by this split\n",
    "        \"\"\"\n",
    "        cls0 = self.cls_split[0] / self.samples\n",
    "        cls1 = self.cls_split[1] / self.samples \n",
    "        list_df = [node.samples for node in temp_children]\n",
    "        list_p_f = [node.cls_split[0] for node in temp_children]\n",
    "        list_n_f = [node.cls_split[1] for node in temp_children]\n",
    "        list_E0 =  [df * cls0 for df in list_df]\n",
    "        list_E1 = [df * cls1 for df in list_df]\n",
    "        x1 = np.divide(np.square(np.subtract(list_p_f, list_E0)), list_E0)\n",
    "        x2 = np.divide(np.square(np.subtract(list_n_f, list_E1)), list_E1)\n",
    "        x1 = np.sum(x1)\n",
    "        x2 = np.sum(x2)\n",
    "        x = x1 + x2\n",
    "        return x, temp_children\n",
    "    \n",
    "    def max_gain_feature_split(self, impurity, gain_ratio=False):\n",
    "        \"\"\"\n",
    "        Find the best feature for split the data according to the inpurity function and gain ratio flag.\n",
    "    \n",
    "        Inputs:\n",
    "        - data: data set when the last column hold the label\n",
    "        - impurity: a function that calculate the impurity\n",
    "        - gain_ratio: goodness of split or gain ratio flag\n",
    "    \n",
    "        Returns:\n",
    "        - best feature for split \n",
    "        - the children that created by the split\n",
    "        \"\"\"\n",
    "        max_gain = 0\n",
    "        best_f = 0\n",
    "        children = []\n",
    "        for feature in range(self.data.shape[1] - 1):\n",
    "            feature_gain, current_children = goodness_of_split(self.data, feature, impurity, gain_ratio)\n",
    "            if feature_gain > max_gain:\n",
    "                max_gain = feature_gain\n",
    "                best_f = feature\n",
    "                children = current_children\n",
    "        return best_f, children"
   ]
  },
  {
   "cell_type": "code",
   "execution_count": 11,
   "metadata": {},
   "outputs": [],
   "source": [
    "def build_tree(data, impurity, gain_ratio=False, chi=1, max_depth=1000):\n",
    "    \"\"\"\n",
    "    Build a tree using the given impurity measure and training dataset. \n",
    "    You are required to fully grow the tree until all leaves are pure. \n",
    "\n",
    "    Input:\n",
    "    - data: the training dataset.\n",
    "    - impurity: the chosen impurity measure. Notice that you can send a function\n",
    "                as an argument in python.\n",
    "    - gain_ratio: goodness of split or gain ratio flag\n",
    "    - chi: chi square p-value cut off (1 means no pruning)\n",
    "    - max_depth: the allowable depth of the tree\n",
    "\n",
    "    Output: the root node of the tree.\n",
    "    \"\"\"\n",
    "    root = None\n",
    "    best_feature = None\n",
    "    q = [DecisionNode(data)]\n",
    "    #num_of_nodes = 0\n",
    "    flag_chi = 1\n",
    "    depth = 0;\n",
    "    \n",
    "    while q and depth < max_depth:\n",
    "        n = len(q)\n",
    "        depth += 1\n",
    "        for i in range(n):    \n",
    "            node = q.pop(0)\n",
    "            flag_chi = 1\n",
    "            # if the node has pure split \n",
    "            if max(node.cls_split) == node.data.shape[0]:\n",
    "                pass\n",
    "            else:\n",
    "                #best_feature, children = max_gain_feature(node.data, impurity, gain_ratio)\n",
    "                best_feature, children = node.max_gain_feature_split(impurity, gain_ratio)\n",
    "                node.feature = best_feature\n",
    "                # df = (number of atribute - 1) * (number of classes - 1)\n",
    "                node.df = len(children) - 1\n",
    "                children = [DecisionNode(child) for child in children]\n",
    "            \n",
    "                if root == None:\n",
    "                    root = node\n",
    "                \n",
    "                if chi != 1:\n",
    "                    p_cut_of_node, split_children = node.compute_chi_value(children)\n",
    "                    # we choose before the alpha risk then as array of values according to df (-degree of freedom)\n",
    "                    if chi[node.df] >= p_cut_of_node:\n",
    "                        flag_chi = 0\n",
    "            \n",
    "                if chi == 1 or flag_chi:\n",
    "                    node.add_children(children)\n",
    "                    q += children\n",
    "                \n",
    "\n",
    "    return root, depth - 1"
   ]
  },
  {
   "cell_type": "code",
   "execution_count": 12,
   "metadata": {},
   "outputs": [],
   "source": [
    "# python supports passing a function as an argument to another function.\n",
    "tree_gini, _ = build_tree(data=X_train, impurity=calc_gini) # gini and goodness of split\n",
    "tree_entropy, _ = build_tree(data=X_train, impurity=calc_entropy) # entropy and goodness of split\n",
    "tree_entropy_gain_ratio, depth = build_tree(data=X_train, impurity=calc_entropy, gain_ratio=True) # entropy and gain ratio"
   ]
  },
  {
   "cell_type": "markdown",
   "metadata": {},
   "source": [
    "## Tree evaluation\n",
    "\n",
    "Complete the functions `predict` and `calc_accuracy`. (10 points)"
   ]
  },
  {
   "cell_type": "code",
   "execution_count": 13,
   "metadata": {},
   "outputs": [],
   "source": [
    "def predict(node, instance):\n",
    "    \"\"\"\n",
    "    Predict a given instance using the decision tree\n",
    " \n",
    "    Input:\n",
    "    - root: the root of the decision tree.\n",
    "    - instance: an row vector from the dataset. Note that the last element \n",
    "                of this vector is the label of the instance.\n",
    " \n",
    "    Output: the prediction of the instance.\n",
    "    \"\"\"\n",
    "    pred = None\n",
    "\n",
    "    while node.children:\n",
    "        current_feature = node.feature\n",
    "        instance_ans = instance[current_feature]\n",
    "    \n",
    "        if instance_ans in node.children_vals:\n",
    "            idx_c = node.children_vals.index(instance_ans)\n",
    "            child = node.children[idx_c]\n",
    "            node = child\n",
    "        else:\n",
    "            break\n",
    "\n",
    "    return node.pred"
   ]
  },
  {
   "cell_type": "code",
   "execution_count": 14,
   "metadata": {},
   "outputs": [],
   "source": [
    "def calc_accuracy(node, dataset):\n",
    "    \"\"\"\n",
    "    Predict a given dataset using the decision tree\n",
    " \n",
    "    Input:\n",
    "    - node: a node in the decision tree.\n",
    "    - dataset: the dataset on which the accuracy is evaluated\n",
    " \n",
    "    Output: the accuracy of the decision tree on the given dataset (%).\n",
    "    \"\"\"\n",
    "    accuracy = 0\n",
    "    size_data = dataset.shape[0]\n",
    "    correct = 0\n",
    "    for i in range(size_data):\n",
    "        instance = dataset[i, :]\n",
    "        if predict(node, instance) == instance[-1]:\n",
    "            correct += 1\n",
    "    accuracy = 100 * (correct / size_data)\n",
    "\n",
    "    return accuracy "
   ]
  },
  {
   "cell_type": "markdown",
   "metadata": {},
   "source": [
    "After building the three trees using the training set, you should calculate the accuracy on the test set. For each tree print the training and test accuracy. Select the tree that gave you the best test accuracy. For the rest of the exercise, use that tree (when you asked to build another tree use the same impurity function and same gain_ratio flag). "
   ]
  },
  {
   "cell_type": "code",
   "execution_count": 15,
   "metadata": {},
   "outputs": [
    {
     "name": "stdout",
     "output_type": "stream",
     "text": [
      "77.69571639586411 78.13884785819793 79.02511078286558\n"
     ]
    }
   ],
   "source": [
    "#### Your code here ####\n",
    "gini_accuracy = calc_accuracy(tree_gini, X_test)\n",
    "entropy_accuracy =  calc_accuracy(tree_entropy, X_test)\n",
    "test_entropy_gain_ratio_accuracy = calc_accuracy(tree_entropy_gain_ratio, X_test)\n",
    "print(gini_accuracy, entropy_accuracy, test_entropy_gain_ratio_accuracy)"
   ]
  },
  {
   "cell_type": "markdown",
   "metadata": {},
   "source": [
    "## The chosen tree : tree_entropy_gain_ratio"
   ]
  },
  {
   "cell_type": "code",
   "execution_count": 16,
   "metadata": {},
   "outputs": [],
   "source": [
    "train_entropy_gain_ratio_accuracy = calc_accuracy(tree_entropy_gain_ratio, X_train)"
   ]
  },
  {
   "cell_type": "markdown",
   "metadata": {},
   "source": [
    "## Post pruning\n",
    "\n",
    "Iterate over all nodes in the tree that have at least a single child which is a leaf. For each such node, replace it with its most popular class. Calculate the accuracy on the testing dataset, pick the node that results in the highest testing accuracy and permanently change it in the tree. Repeat this process until you are left with a single node in the tree (the root). Finally, create a plot of the training and testing accuracies as a function of the number of nodes in the tree. (15 points)"
   ]
  },
  {
   "cell_type": "code",
   "execution_count": 18,
   "metadata": {},
   "outputs": [],
   "source": [
    "def find_parents(node, parents_list, parent):\n",
    "    \"\"\"\n",
    "    Finds all the parents with at least one leaf\n",
    "    \n",
    "    Inputs:\n",
    "    - node: Decision node \n",
    "    - parent_list: the known parents with at least one leaf\n",
    "    \"\"\"\n",
    "    \n",
    "    # if the node is a leaf add his parent to the list \n",
    "    if not node.children:\n",
    "        parents_list.append(parent)\n",
    "        return\n",
    "    \n",
    "    for child in node.children:\n",
    "            find_parents(child, parents_list, node)\n",
    "    \n",
    "    return set(parents_list)"
   ]
  },
  {
   "cell_type": "code",
   "execution_count": 19,
   "metadata": {},
   "outputs": [],
   "source": [
    "def number_of_nodes(root):\n",
    "    \"\"\"\n",
    "    Count the number of nodes in the tree\n",
    "    \n",
    "    Input:\n",
    "    -root: a node in the decision tree\n",
    "    \n",
    "    Returns:\n",
    "    - The number of nodes in the tree\n",
    "    \"\"\"\n",
    "    \n",
    "    if not root.children:\n",
    "        return 1\n",
    "    \n",
    "    return 1 + sum(number_of_nodes(child) for child in root.children)"
   ]
  },
  {
   "cell_type": "code",
   "execution_count": 21,
   "metadata": {},
   "outputs": [],
   "source": [
    "root = tree_entropy_gain_ratio\n",
    "data_train = X_train\n",
    "data_test = X_test\n",
    "\n",
    "current_parents = find_parents(root, [], root)\n",
    "num_of_nodes = [number_of_nodes(root)]\n",
    "train_accuracy = [calc_accuracy(root, data_train)]\n",
    "test_accuracy = [calc_accuracy(root, data_test)]\n",
    "node_to_remove = root\n",
    "best_post_tree = [copy.deepcopy(root)]\n",
    "max_total = test_accuracy[0]\n",
    "    \n",
    "\n",
    "#while root.children:\n",
    "while current_parents:\n",
    "    max_accuracy = -1\n",
    "    \n",
    "    for parent_node in current_parents:\n",
    "        temp_children = parent_node.children.copy()\n",
    "        parent_node.children = []\n",
    "        current_accuracy = calc_accuracy(root, data_test)\n",
    "        \n",
    "        if current_accuracy > max_accuracy:\n",
    "            max_accuracy = current_accuracy\n",
    "            node_to_remove = parent_node\n",
    "        \n",
    "        parent_node.children = temp_children.copy()\n",
    "        \n",
    "    node_to_remove.children = []\n",
    "    num_of_nodes.append(number_of_nodes(root))\n",
    "    train_accuracy.append(calc_accuracy(root, data_train))\n",
    "    test_accuracy.append(max_accuracy)\n",
    "    # duplicate also if it is equal since we want to save the shortest tree with the max. accuracy\n",
    "    if max_total <= max_accuracy:\n",
    "        best_post_tree = copy.deepcopy(root)\n",
    "        max_total = max_accuracy\n",
    "    current_parents = find_parents(root, [], root)"
   ]
  },
  {
   "cell_type": "code",
   "execution_count": 22,
   "metadata": {},
   "outputs": [
    {
     "data": {
      "image/png": "[encoded data removed]",
      "text/plain": [
       "<Figure size 720x576 with 1 Axes>"
      ]
     },
     "metadata": {
      "needs_background": "light"
     },
     "output_type": "display_data"
    }
   ],
   "source": [
    "plt.plot(num_of_nodes, train_accuracy, 'g')\n",
    "plt.plot(num_of_nodes, test_accuracy,'b')\n",
    "plt.xlabel('number of nodes')\n",
    "plt.ylabel('accuracy')\n",
    "plt.title('accuracy as a function of the number of nodes')\n",
    "plt.legend(['X_train', 'X_test'])\n",
    "plt.show()"
   ]
  },
  {
   "cell_type": "markdown",
   "metadata": {},
   "source": [
    "## Chi square pre-pruning\n",
    "\n",
    "Consider the following p-value cut-off values: [1 (no pruning), 0.5, 0.25, 0.1, 0.05, 0.0001 (max pruning)]. For each value, construct a tree and prune it according to the cut-off value. Next, calculate the training and testing accuracy. On a single plot, draw the training and testing accuracy as a function of the tuple (p-value, depth). Mark the best result on the graph with red circle. (15 points)"
   ]
  },
  {
   "cell_type": "code",
   "execution_count": 23,
   "metadata": {},
   "outputs": [],
   "source": [
    "### Chi square table values ###\n",
    "# The first key is the degree of freedom \n",
    "# The second key is the p-value cut-off\n",
    "# The values are the chi-statistic that you need to use in the pruning\n",
    "chi_table = {1: {0.5 : 0.45,\n",
    "                 0.25 : 1.32,\n",
    "                 0.1 : 2.71,\n",
    "                 0.05 : 3.84,\n",
    "                 0.0001 : 100000},\n",
    "             2: {0.5 : 1.39,\n",
    "                 0.25 : 2.77,\n",
    "                 0.1 : 4.60,\n",
    "                 0.05 : 5.99,\n",
    "                 0.0001 : 100000},\n",
    "             3: {0.5 : 2.37,\n",
    "                 0.25 : 4.11,\n",
    "                 0.1 : 6.25,\n",
    "                 0.05 : 7.82,\n",
    "                 0.0001 : 100000},\n",
    "             4: {0.5 : 3.36,\n",
    "                 0.25 : 5.38,\n",
    "                 0.1 : 7.78,\n",
    "                 0.05 : 9.49,\n",
    "                 0.0001 : 100000},\n",
    "             5: {0.5 : 4.35,\n",
    "                 0.25 : 6.63,\n",
    "                 0.1 : 9.24,\n",
    "                 0.05 : 11.07,\n",
    "                 0.0001 : 100000},\n",
    "             6: {0.5 : 5.35,\n",
    "                 0.25 : 7.84,\n",
    "                 0.1 : 10.64,\n",
    "                 0.05 : 12.59,\n",
    "                 0.0001 : 100000},\n",
    "             7: {0.5 : 6.35,\n",
    "                 0.25 : 9.04,\n",
    "                 0.1 : 12.01,\n",
    "                 0.05 : 14.07,\n",
    "                 0.0001 : 100000},\n",
    "             8: {0.5 : 7.34,\n",
    "                 0.25 : 10.22,\n",
    "                 0.1 : 13.36,\n",
    "                 0.05 : 15.51,\n",
    "                 0.0001 : 100000},\n",
    "             9: {0.5 : 8.34,\n",
    "                 0.25 : 11.39,\n",
    "                 0.1 : 14.68,\n",
    "                 0.05 : 16.92,\n",
    "                 0.0001 : 100000},\n",
    "             10: {0.5 : 9.34,\n",
    "                  0.25 : 12.55,\n",
    "                  0.1 : 15.99,\n",
    "                  0.05 : 18.31,\n",
    "                  0.0001 : 100000},\n",
    "             11: {0.5 : 10.34,\n",
    "                  0.25 : 13.7,\n",
    "                  0.1 : 17.27,\n",
    "                  0.05 : 19.68,\n",
    "                  0.0001 : 100000}}"
   ]
  },
  {
   "cell_type": "code",
   "execution_count": 24,
   "metadata": {},
   "outputs": [
    {
     "data": {
      "image/png": "[encoded data removed]",
      "text/plain": [
       "<Figure size 720x576 with 1 Axes>"
      ]
     },
     "metadata": {
      "needs_background": "light"
     },
     "output_type": "display_data"
    }
   ],
   "source": [
    "#### Your code here ####\n",
    "\n",
    "p_value_cut_off = [0.0001, 0.05, 0.1, 0.25, 0.5]\n",
    "tuple_p_cut_depth = []\n",
    "acc_history_train = [] \n",
    "acc_history_test = []\n",
    "for p_cut in p_value_cut_off:\n",
    "    chi = [val[p_cut] for key, val in chi_table.items()] \n",
    "    temp_tree, curr_depth = build_tree(X_train, calc_entropy, True, chi)\n",
    "    acc_history_train += [calc_accuracy(temp_tree, X_train)]\n",
    "    acc_history_test += [calc_accuracy(temp_tree, X_test)]\n",
    "    tuple_p_cut_depth += [(p_cut, curr_depth)]\n",
    "\n",
    "p_value_cut_off.append(1)\n",
    "tuple_p_cut_depth += [(1, depth)]\n",
    "acc_history_train += [train_entropy_gain_ratio_accuracy] \n",
    "acc_history_test += [test_entropy_gain_ratio_accuracy]\n",
    "max_acc_test = max(acc_history_test)\n",
    "idx_max_acc = acc_history_test.index(max_acc_test)\n",
    "\n",
    "x = [str(t) for t in tuple_p_cut_depth]\n",
    "# drawing\n",
    "plt.plot(x, acc_history_train, 'g', marker='o')\n",
    "plt.plot(x, acc_history_test,'b', marker='^')\n",
    "plt.scatter(x[idx_max_acc], max_acc_test, s=200,facecolors='none',edgecolors='r')\n",
    "plt.xlabel('(p-value cut-off, depth)')\n",
    "plt.ylabel('accuracy')\n",
    "plt.title('accuracy as a function of p-value cut-off values')\n",
    "plt.legend(['X_train', 'X_test'])\n",
    "plt.show()"
   ]
  },
  {
   "cell_type": "markdown",
   "metadata": {},
   "source": [
    "Build the best 2 trees:\n",
    "1. tree_max_depth=tree_post_pruning - the best tree according to max_depth pruning. In piazza instructor note that tree_max_depth is a typo and the meaning is tree of post-pruning\n",
    "2. tree_chi - the best tree according to chi square pruning"
   ]
  },
  {
   "cell_type": "code",
   "execution_count": 25,
   "metadata": {},
   "outputs": [],
   "source": [
    "# the best tree post pruning is saved( by duplicate) when execute the post pruning\n",
    "tree_post_pruning = best_post_tree\n",
    "\n",
    "# find the best chi by accuracy history (on test data)\n",
    "best_chi = p_value_cut_off[idx_max_acc]\n",
    "chi = [val[best_chi] for key, val in chi_table.items()]\n",
    "tree_chi, _ = build_tree(data=X_train, impurity=calc_entropy, gain_ratio=True, chi=chi)"
   ]
  },
  {
   "cell_type": "markdown",
   "metadata": {},
   "source": [
    "## Number of Nodes\n",
    "\n",
    "Of the two trees above we will choose the one with fewer nodes. Complete the function counts_nodes and print the number of nodes in each tree. (5 points) "
   ]
  },
  {
   "cell_type": "code",
   "execution_count": 26,
   "metadata": {},
   "outputs": [],
   "source": [
    "def count_nodes(node):\n",
    "    \"\"\"\n",
    "    Count the number of node in a given tree\n",
    " \n",
    "    Input:\n",
    "    - node: a node in the decision tree.\n",
    " \n",
    "    Output: the number of node in the tree.\n",
    "    \"\"\"\n",
    "\n",
    "    # implementation\n",
    "    return number_of_nodes(node)    "
   ]
  },
  {
   "cell_type": "code",
   "execution_count": 27,
   "metadata": {},
   "outputs": [
    {
     "name": "stdout",
     "output_type": "stream",
     "text": [
      "Number of nodes:\n",
      "    tree post pruning - 68 nodes\n",
      "    tree chi- 31 nodes\n"
     ]
    }
   ],
   "source": [
    "post_pruning_count = count_nodes(tree_post_pruning)\n",
    "chi_count = count_nodes(tree_chi)\n",
    "print('Number of nodes:')\n",
    "print(f'    tree post pruning - {post_pruning_count} nodes')\n",
    "print(f'    tree chi- {chi_count} nodes')"
   ]
  },
  {
   "cell_type": "code",
   "execution_count": 28,
   "metadata": {},
   "outputs": [],
   "source": [
    "# choose the one with less nodes\n",
    "tree_root = tree_chi if chi_count < post_pruning_count else tree_post_pruning"
   ]
  },
  {
   "cell_type": "markdown",
   "metadata": {},
   "source": [
    "## Print the tree\n",
    "\n",
    "Complete the function `print_tree` and execute it on your chosen tree. Your tree should be visualized clearly. You can use the following example as a reference:\n",
    "```\n",
    "[ROOT, feature=X0],\n",
    "  [X0=a, feature=X2]\n",
    "    [X2=c, leaf]: [{1.0: 10}]\n",
    "    [X2=d, leaf]: [{0.0: 10}]\n",
    "  [X0=y, feature=X5], \n",
    "    [X5=a, leaf]: [{1.0: 5}]\n",
    "    [X5=s, leaf]: [{0.0: 10}]\n",
    "  [X0=e, leaf]: [{0.0: 25, 1.0: 50}]\n",
    "```\n",
    "In each brackets:\n",
    "* The first argument is the parent feature with the value that led to current node\n",
    "* The second argument is the selected feature of the current node\n",
    "* If the current node is a leaf, you need to print also the labels and their counts\n",
    "\n",
    "(5 points)"
   ]
  },
  {
   "cell_type": "code",
   "execution_count": 29,
   "metadata": {},
   "outputs": [],
   "source": [
    "# you can change the function signeture\n",
    "def print_tree(node, parent_feature='ROOT', feature_val='ROOT', my_feature=None,  space='  '):\n",
    "    '''\n",
    "    prints the tree according to the example above\n",
    "\n",
    "    Input:\n",
    "    - node: a node in the decision tree\n",
    "\n",
    "    This function has no return value\n",
    "    '''\n",
    "\n",
    "    if parent_feature == 'ROOT':\n",
    "        print(f'[ROOT, feature=X{my_feature}]')\n",
    "    elif not node.children:\n",
    "        print(f'{space}[X{parent_feature}={feature_val},  leaf]: {{e: {node.cls_split[0]}, p: {node.cls_split[1]}}}')\n",
    "        return\n",
    "    else:\n",
    "        print(f'{space}[X{parent_feature}={feature_val},  feature=X{my_feature}]')\n",
    "    \n",
    "        space += '  '\n",
    "    for feature, child in enumerate(node.children):\n",
    "        print_tree(child, node.feature, node.children_vals[feature], child.feature, space)"
   ]
  },
  {
   "cell_type": "code",
   "execution_count": 30,
   "metadata": {},
   "outputs": [
    {
     "name": "stdout",
     "output_type": "stream",
     "text": [
      "[ROOT, feature=X4]\n",
      "  [X4=a,  leaf]: {e: 273, p: 31}\n",
      "  [X4=c,  leaf]: {e: 10, p: 137}\n",
      "  [X4=f,  leaf]: {e: 170, p: 1438}\n",
      "  [X4=l,  leaf]: {e: 272, p: 27}\n",
      "  [X4=m,  leaf]: {e: 2, p: 25}\n",
      "  [X4=n,  feature=X7]\n",
      "    [X7=b,  feature=X18]\n",
      "      [X18=b,  leaf]: {e: 34, p: 2}\n",
      "      [X18=k,  leaf]: {e: 843, p: 93}\n",
      "      [X18=n,  leaf]: {e: 882, p: 105}\n",
      "      [X18=o,  leaf]: {e: 28, p: 4}\n",
      "      [X18=r,  leaf]: {e: 6, p: 46}\n",
      "      [X18=w,  leaf]: {e: 369, p: 33}\n",
      "      [X18=y,  leaf]: {e: 35, p: 3}\n",
      "    [X7=n,  feature=X3]\n",
      "      [X3=f,  feature=X10]\n",
      "        [X10=f,  leaf]: {e: 17, p: 3}\n",
      "        [X10=k,  leaf]: {e: 0, p: 25}\n",
      "        [X10=s,  feature=X2]\n",
      "          [X2=c,  leaf]: {e: 10, p: 0}\n",
      "          [X2=g,  leaf]: {e: 36, p: 1}\n",
      "          [X2=n,  leaf]: {e: 37, p: 9}\n",
      "          [X2=r,  leaf]: {e: 9, p: 4}\n",
      "          [X2=u,  leaf]: {e: 14, p: 0}\n",
      "          [X2=w,  leaf]: {e: 12, p: 1}\n",
      "        [X10=y,  leaf]: {e: 0, p: 7}\n",
      "      [X3=t,  leaf]: {e: 0, p: 8}\n",
      "  [X4=p,  leaf]: {e: 8, p: 175}\n",
      "  [X4=s,  leaf]: {e: 38, p: 380}\n",
      "  [X4=y,  leaf]: {e: 49, p: 382}\n"
     ]
    }
   ],
   "source": [
    "print_tree(node=tree_root, my_feature=tree_root.feature)"
   ]
  }
 ],
 "metadata": {
  "celltoolbar": "Create Assignment",
  "kernelspec": {
   "display_name": "Python 3",
   "language": "python",
   "name": "python3"
  },
  "language_info": {
   "codemirror_mode": {
    "name": "ipython",
    "version": 3
   },
   "file_extension": ".py",
   "mimetype": "text/x-python",
   "name": "python",
   "nbconvert_exporter": "python",
   "pygments_lexer": "ipython3",
   "version": "3.8.5"
  }
 },
 "nbformat": 4,
 "nbformat_minor": 2
}
